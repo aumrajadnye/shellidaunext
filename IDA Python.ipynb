{
 "cells": [
  {
   "cell_type": "markdown",
   "id": "bd54cf29",
   "metadata": {},
   "source": [
    "# UDF and Lambda Functions"
   ]
  },
  {
   "cell_type": "code",
   "execution_count": 1,
   "id": "4e49a8cd",
   "metadata": {},
   "outputs": [],
   "source": [
    "import keyword"
   ]
  },
  {
   "cell_type": "code",
   "execution_count": 4,
   "id": "ca67d0f9",
   "metadata": {},
   "outputs": [
    {
     "data": {
      "text/plain": [
       "35"
      ]
     },
     "execution_count": 4,
     "metadata": {},
     "output_type": "execute_result"
    }
   ],
   "source": [
    "len(keyword.kwlist)"
   ]
  },
  {
   "cell_type": "code",
   "execution_count": 27,
   "id": "82e2ecda",
   "metadata": {},
   "outputs": [],
   "source": [
    "def boyle_temperature(p1: float, v1: float, p2: float):\n",
    "    r = 8.314  # Ideal gas constant\n",
    "    \n",
    "    if p2 == 0.0:\n",
    "        return \"Invalid value\"\n",
    "    \n",
    "    # Define a lambda function to calculate v2\n",
    "    calculate_v2 = lambda p1, v1, p2: (p1 * v1) / p2\n",
    "    \n",
    "    # Calculate v2 using the lambda function\n",
    "    v2 = calculate_v2(p1, v1, p2)\n",
    "    \n",
    "    # Calculate the temperature using the calculated v2\n",
    "    temp = (p2 * v2) / r\n",
    "    \n",
    "    return temp\n"
   ]
  },
  {
   "cell_type": "code",
   "execution_count": 28,
   "id": "42014181",
   "metadata": {},
   "outputs": [
    {
     "data": {
      "text/plain": [
       "6.3759923021409675"
      ]
     },
     "execution_count": 28,
     "metadata": {},
     "output_type": "execute_result"
    }
   ],
   "source": [
    "boyle_temperature(9.3,5.7,0.5)"
   ]
  },
  {
   "cell_type": "markdown",
   "id": "d23bd8ed",
   "metadata": {},
   "source": [
    "# Time"
   ]
  },
  {
   "cell_type": "markdown",
   "id": "0e4a682b",
   "metadata": {},
   "source": [
    "### Current Date + Time "
   ]
  },
  {
   "cell_type": "code",
   "execution_count": 55,
   "id": "6779500d",
   "metadata": {},
   "outputs": [],
   "source": [
    "from datetime import datetime as dt"
   ]
  },
  {
   "cell_type": "code",
   "execution_count": 35,
   "id": "e12076d3",
   "metadata": {
    "scrolled": true
   },
   "outputs": [
    {
     "name": "stdout",
     "output_type": "stream",
     "text": [
      "2023-09-19 04:33:27.728887\n"
     ]
    }
   ],
   "source": [
    "print(datetime.now())"
   ]
  },
  {
   "cell_type": "markdown",
   "id": "0a557afd",
   "metadata": {},
   "source": [
    "### Unix Timestamp"
   ]
  },
  {
   "cell_type": "code",
   "execution_count": 36,
   "id": "64230ce6",
   "metadata": {},
   "outputs": [
    {
     "name": "stdout",
     "output_type": "stream",
     "text": [
      "1695098086936.969\n"
     ]
    }
   ],
   "source": [
    "unix_timestamp = datetime.timestamp(datetime.now())*1000\n",
    "print(unix_timestamp)"
   ]
  },
  {
   "cell_type": "markdown",
   "id": "48b41929",
   "metadata": {},
   "source": [
    "### Custom Timestamp Format"
   ]
  },
  {
   "cell_type": "code",
   "execution_count": 38,
   "id": "3728d0d7",
   "metadata": {},
   "outputs": [],
   "source": [
    "def custom_format(input_datetime, format_string):\n",
    "    try:\n",
    "        formatted_datetime = input_datetime.strftime(format_string)\n",
    "        return formatted_datetime\n",
    "    except Exception as e:\n",
    "        return str(e)"
   ]
  },
  {
   "cell_type": "code",
   "execution_count": 43,
   "id": "fcd5777d",
   "metadata": {},
   "outputs": [
    {
     "data": {
      "text/plain": [
       "'19-Sep-2023'"
      ]
     },
     "execution_count": 43,
     "metadata": {},
     "output_type": "execute_result"
    }
   ],
   "source": [
    "custom_format(datetime.now(), \"%d-%b-%Y\")"
   ]
  },
  {
   "cell_type": "markdown",
   "id": "e8e15b64",
   "metadata": {},
   "source": [
    "### Elapsed Time "
   ]
  },
  {
   "cell_type": "code",
   "execution_count": 68,
   "id": "0adc36ca",
   "metadata": {},
   "outputs": [],
   "source": [
    "def elapsed_time(start_time, end_time, u_format = \"sec\"):\n",
    "    try:\n",
    "        elapsed_time = (end_time - start_time).total_seconds()\n",
    "        if u_format == \"min\":\n",
    "            return elapsed_time//60\n",
    "        elif u_format == \"hour\":\n",
    "            return elapsed_time//3600\n",
    "        else:\n",
    "            return elapsed_time\n",
    "    except Exception as e:\n",
    "        return str(e)"
   ]
  },
  {
   "cell_type": "code",
   "execution_count": 70,
   "id": "d71cc5be",
   "metadata": {},
   "outputs": [
    {
     "data": {
      "text/plain": [
       "5.0"
      ]
     },
     "execution_count": 70,
     "metadata": {},
     "output_type": "execute_result"
    }
   ],
   "source": [
    "start_time = datetime(2023, 9, 19, 0, 0, 0)\n",
    "end_time = datetime.now()\n",
    "elapsed_time(start_time, end_time, \"hour\")"
   ]
  },
  {
   "cell_type": "markdown",
   "id": "3814179d",
   "metadata": {},
   "source": [
    "# Arguments"
   ]
  },
  {
   "cell_type": "markdown",
   "id": "b3830f18",
   "metadata": {},
   "source": [
    "### Positional "
   ]
  },
  {
   "cell_type": "code",
   "execution_count": null,
   "id": "f1126da0",
   "metadata": {},
   "outputs": [],
   "source": [
    "def function(a,b,c):\n",
    "    pass"
   ]
  },
  {
   "cell_type": "markdown",
   "id": "faf9d10b",
   "metadata": {},
   "source": [
    "### Default "
   ]
  },
  {
   "cell_type": "code",
   "execution_count": null,
   "id": "a841bb4e",
   "metadata": {},
   "outputs": [],
   "source": [
    "def function(a = 5, b = 3, c = 1):\n",
    "    pass"
   ]
  },
  {
   "cell_type": "markdown",
   "id": "7fc71e77",
   "metadata": {},
   "source": [
    "### Variable Length "
   ]
  },
  {
   "cell_type": "code",
   "execution_count": 71,
   "id": "1709be53",
   "metadata": {},
   "outputs": [],
   "source": [
    "def function(*nums):\n",
    "    for num in nums:\n",
    "        print(num)\n",
    "    pass"
   ]
  },
  {
   "cell_type": "markdown",
   "id": "5de9112e",
   "metadata": {},
   "source": [
    "# Recursion"
   ]
  },
  {
   "cell_type": "code",
   "execution_count": 79,
   "id": "4e27ce94",
   "metadata": {},
   "outputs": [],
   "source": [
    "def factorial(n):\n",
    "    if n == 0:\n",
    "        return 1\n",
    "    return n * factorial(n - 1)"
   ]
  },
  {
   "cell_type": "code",
   "execution_count": 80,
   "id": "a553fdb9",
   "metadata": {},
   "outputs": [
    {
     "data": {
      "text/plain": [
       "120"
      ]
     },
     "execution_count": 80,
     "metadata": {},
     "output_type": "execute_result"
    }
   ],
   "source": [
    "factorial(5)"
   ]
  },
  {
   "cell_type": "code",
   "execution_count": 91,
   "id": "5f971867",
   "metadata": {},
   "outputs": [],
   "source": [
    "def calculate_remaining_reserves(oil_well):\n",
    "    def helper(year, value, rate):\n",
    "        if year == 10:\n",
    "            return\n",
    "        year += 1\n",
    "        new_val = value - (rate * value)    \n",
    "        print(f\"Year {year}: \" , new_val)\n",
    "        return helper(year, new_val, rate)\n",
    "    \n",
    "    print(f\"Year 0: \" , oil_well[\"initial_reserves\"])\n",
    "    return helper(0, oil_well[\"initial_reserves\"], oil_well[\"decline_rate\"])"
   ]
  },
  {
   "cell_type": "code",
   "execution_count": 81,
   "id": "907f4316",
   "metadata": {},
   "outputs": [],
   "source": [
    "oil_well = {\n",
    "    \"name\": \"Well A\",\n",
    "    \"initial_reserves\": 1000,  # Initial oil reserves in barrels\n",
    "    \"decline_rate\": 0.1,       # Annual decline rate\n",
    "}"
   ]
  },
  {
   "cell_type": "code",
   "execution_count": 92,
   "id": "43701993",
   "metadata": {},
   "outputs": [
    {
     "name": "stdout",
     "output_type": "stream",
     "text": [
      "Year 0:  1000\n",
      "Year 1:  900.0\n",
      "Year 2:  810.0\n",
      "Year 3:  729.0\n",
      "Year 4:  656.1\n",
      "Year 5:  590.49\n",
      "Year 6:  531.441\n",
      "Year 7:  478.29690000000005\n",
      "Year 8:  430.46721\n",
      "Year 9:  387.42048900000003\n",
      "Year 10:  348.67844010000005\n"
     ]
    }
   ],
   "source": [
    "calculate_remaining_reserves(oil_well)"
   ]
  },
  {
   "cell_type": "markdown",
   "id": "2380f29b",
   "metadata": {},
   "source": [
    "# Data"
   ]
  },
  {
   "cell_type": "code",
   "execution_count": 93,
   "id": "544a981d",
   "metadata": {},
   "outputs": [],
   "source": [
    "\n",
    "# Sample data for transportation routes\n",
    "routes = [\n",
    "    {\"route_id\": 1, \"route_name\": \"Route A\", \"capacity\": 100, \"cost_per_km\": 2.5},\n",
    "    {\"route_id\": 2, \"route_name\": \"Route B\", \"capacity\": 150, \"cost_per_km\": 3.0},\n",
    "    {\"route_id\": 3, \"route_name\": \"Route C\", \"capacity\": 200, \"cost_per_km\": 2.0},\n",
    "]\n",
    "\n",
    "# Sample data for product shipments\n",
    "shipments = [\n",
    "    {\"shipment_id\": 101, \"product_type\": \"Crude Oil\", \"quantity\": 50, \"distance_km\": 200},\n",
    "    {\"shipment_id\": 102, \"product_type\": \"Natural Gas\", \"quantity\": 1000, \"distance_km\": 300},\n",
    "    {\"shipment_id\": 103, \"product_type\": \"Crude Oil\", \"quantity\": 80, \"distance_km\": 150},\n",
    "    {\"shipment_id\": 104, \"product_type\": \"Liquefied Natural Gas (LNG)\", \"quantity\": 500, \"distance_km\": 250},\n",
    "]\n",
    "\n",
    "# Sample data for distribution centers\n",
    "distribution_centers = [\n",
    "    {\"center_id\": 1, \"center_name\": \"Center X\", \"location\": \"City A\"},\n",
    "    {\"center_id\": 2, \"center_name\": \"Center Y\", \"location\": \"City B\"},\n",
    "    {\"center_id\": 3, \"center_name\": \"Center Z\", \"location\": \"City C\"},\n",
    "]\n",
    "\n",
    "# Sample data for available routes and their capacities\n",
    "available_routes = [\n",
    "    {\"route_id\": 1, \"capacity_available\": 80},\n",
    "    {\"route_id\": 2, \"capacity_available\": 120},\n",
    "    {\"route_id\": 3, \"capacity_available\": 180},\n",
    "]\n",
    "\n",
    "# Sample data for logging shipment activities\n",
    "shipment_logs = []\n",
    "\n",
    "# Sample data for product scheduling (for recursive function)\n",
    "product_quantities = {\n",
    "    \"Crude Oil\": 200,\n",
    "    \"Natural Gas\": 800,\n",
    "    \"Liquefied Natural Gas (LNG)\": 300,\n",
    "}\n"
   ]
  },
  {
   "cell_type": "markdown",
   "id": "b8b289bb",
   "metadata": {},
   "source": [
    "# Functions"
   ]
  },
  {
   "cell_type": "code",
   "execution_count": null,
   "id": "5ced59b3",
   "metadata": {},
   "outputs": [],
   "source": [
    "def log_shipment_activity():\n",
    "    pass"
   ]
  },
  {
   "cell_type": "code",
   "execution_count": null,
   "id": "396717a3",
   "metadata": {},
   "outputs": [],
   "source": [
    "def list_available_routes():\n",
    "    pass"
   ]
  },
  {
   "cell_type": "code",
   "execution_count": null,
   "id": "3b7ee2f6",
   "metadata": {},
   "outputs": [],
   "source": [
    "def schedule_shipments(product_quantities):\n",
    "    pass    "
   ]
  },
  {
   "cell_type": "code",
   "execution_count": null,
   "id": "b2d9e717",
   "metadata": {},
   "outputs": [],
   "source": [
    "def optimize_transport_route():\n",
    "    pass"
   ]
  },
  {
   "cell_type": "code",
   "execution_count": null,
   "id": "9311a8cf",
   "metadata": {},
   "outputs": [],
   "source": [
    "def check_transport_cost(distance, product_type):\n",
    "    pass"
   ]
  },
  {
   "cell_type": "code",
   "execution_count": null,
   "id": "74094277",
   "metadata": {},
   "outputs": [],
   "source": [
    "def check_route_availability(route, product_quantity):\n",
    "    pass"
   ]
  },
  {
   "cell_type": "code",
   "execution_count": null,
   "id": "2cc2e372",
   "metadata": {},
   "outputs": [],
   "source": []
  }
 ],
 "metadata": {
  "kernelspec": {
   "display_name": "Python 3 (ipykernel)",
   "language": "python",
   "name": "python3"
  },
  "language_info": {
   "codemirror_mode": {
    "name": "ipython",
    "version": 3
   },
   "file_extension": ".py",
   "mimetype": "text/x-python",
   "name": "python",
   "nbconvert_exporter": "python",
   "pygments_lexer": "ipython3",
   "version": "3.11.4"
  }
 },
 "nbformat": 4,
 "nbformat_minor": 5
}
